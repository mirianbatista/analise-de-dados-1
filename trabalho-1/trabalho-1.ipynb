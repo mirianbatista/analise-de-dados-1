{
 "cells": [
  {
   "cell_type": "markdown",
   "metadata": {},
   "source": [
    "# Trabalho 1 - Análise de Dados\n",
    "\n",
    "    a) Divida-os em conjunto de treino (70% dos dados) e conjunto de avaliação(30%)\n",
    "    b) Construa um modelo de classificação de acordo com o objetivo de cada dataset usando um método 1R. Utilize apenas o conjunto de treino para isso\n",
    "    c) Avalie o modelo criado usando 1R sobre o conjunto de avaliação medindo a\n",
    "    precisão\n",
    "    d) Construa a matriz de confusão relativa ao modelo\n",
    "    e) Faça um boxplot exibindo como o atributo selecionado pela 1R está se comportando em cada categoria\n",
    "    f) Construa um modelo de classificação de acordo com o objetivo de cada dataset usando um método naïve Bayes. Utilize apenas o conjunto de treino\n",
    "    para isso\n",
    "    g) Avalie o modelo criado usando naïve Bayes sobre o conjunto de avaliação\n",
    "    medindo a precisão\n",
    "    h) Construa a matriz de confusão relativa ao modelo\n",
    "    i) Apresente um sumário estatísticos de cada atributo.\n",
    "    j) Construa gráficos mostrando cada par de atributos estão relacionado.s Utilize\n",
    "    cores diferentes para cada categoria de interesse na classificação.\n",
    "    \n",
    "* Iris: Classificar por Espécie\n",
    "* Breast Cancer: Classificar Maligno vs Benigno\n",
    "* Titanic: Classificar Sobrevivente vs Não Sobrevivente"
   ]
  },
  {
   "cell_type": "code",
   "execution_count": 1,
   "metadata": {},
   "outputs": [],
   "source": [
    "import pandas as pd\n",
    "import matplotlib.pyplot as plt"
   ]
  },
  {
   "cell_type": "code",
   "execution_count": 2,
   "metadata": {},
   "outputs": [],
   "source": [
    "iris = pd.read_csv(\"iris.csv\")\n",
    "cancer = pd.read_csv(\"cancer.csv\")\n",
    "titanic = pd.read_csv(\"titanic.csv\")"
   ]
  },
  {
   "cell_type": "code",
   "execution_count": 10,
   "metadata": {},
   "outputs": [],
   "source": [
    "#Dividir dataset\n",
    "from sklearn.model_selection import train_test_split\n",
    "\n",
    "iris_train, iris_test = train_test_split(iris, test_size=0.3)\n",
    "cancer_train, cancer_test = train_test_split(cancer, test_size=0.3)\n",
    "titanic_train, titanic_test = train_test_split(titanic, test_size=0.3)"
   ]
  },
  {
   "cell_type": "code",
   "execution_count": null,
   "metadata": {},
   "outputs": [],
   "source": []
  }
 ],
 "metadata": {
  "kernelspec": {
   "display_name": "Python 3",
   "language": "python",
   "name": "python3"
  },
  "language_info": {
   "codemirror_mode": {
    "name": "ipython",
    "version": 3
   },
   "file_extension": ".py",
   "mimetype": "text/x-python",
   "name": "python",
   "nbconvert_exporter": "python",
   "pygments_lexer": "ipython3",
   "version": "3.7.3"
  }
 },
 "nbformat": 4,
 "nbformat_minor": 2
}
