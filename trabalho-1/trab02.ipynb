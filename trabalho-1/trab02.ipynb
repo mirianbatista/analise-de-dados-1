{
 "cells": [
  {
   "cell_type": "code",
   "execution_count": 3,
   "metadata": {},
   "outputs": [
    {
     "name": "stderr",
     "output_type": "stream",
     "text": [
      "also installing the dependencies 'libcoin', 'mvtnorm', 'Formula', 'inum', 'partykit', 'Cubist'\n",
      "\n"
     ]
    },
    {
     "name": "stdout",
     "output_type": "stream",
     "text": [
      "package 'libcoin' successfully unpacked and MD5 sums checked\n",
      "package 'mvtnorm' successfully unpacked and MD5 sums checked\n",
      "package 'Formula' successfully unpacked and MD5 sums checked\n",
      "package 'inum' successfully unpacked and MD5 sums checked\n",
      "package 'partykit' successfully unpacked and MD5 sums checked\n",
      "package 'Cubist' successfully unpacked and MD5 sums checked\n",
      "package 'C50' successfully unpacked and MD5 sums checked\n",
      "\n",
      "The downloaded binary packages are in\n",
      "\tC:\\Users\\mirian.batista\\AppData\\Local\\Temp\\RtmpkTD98T\\downloaded_packages\n"
     ]
    }
   ],
   "source": [
    "install.packages(\"C50\")"
   ]
  },
  {
   "cell_type": "code",
   "execution_count": 4,
   "metadata": {},
   "outputs": [],
   "source": [
    "library(\"C50\")"
   ]
  },
  {
   "cell_type": "code",
   "execution_count": 5,
   "metadata": {},
   "outputs": [
    {
     "name": "stdout",
     "output_type": "stream",
     "text": [
      "package 'rpart' successfully unpacked and MD5 sums checked\n"
     ]
    },
    {
     "name": "stderr",
     "output_type": "stream",
     "text": [
      "Warning message:\n",
      "\"cannot remove prior installation of package 'rpart'\"Warning message in file.copy(savedcopy, lib, recursive = TRUE):\n",
      "\"problem copying C:\\tools\\Anaconda3\\envs\\r\\Lib\\R\\library\\00LOCK\\rpart\\libs\\x64\\rpart.dll to C:\\tools\\Anaconda3\\envs\\r\\Lib\\R\\library\\rpart\\libs\\x64\\rpart.dll: Permission denied\"Warning message:\n",
      "\"restored 'rpart'\""
     ]
    },
    {
     "name": "stdout",
     "output_type": "stream",
     "text": [
      "\n",
      "The downloaded binary packages are in\n",
      "\tC:\\Users\\mirian.batista\\AppData\\Local\\Temp\\RtmpkTD98T\\downloaded_packages\n"
     ]
    }
   ],
   "source": [
    "install.packages(\"rpart\")\n"
   ]
  },
  {
   "cell_type": "code",
   "execution_count": 8,
   "metadata": {},
   "outputs": [],
   "source": [
    "iris_tree <-rpart(Species ~ ., data=iris, method='class')"
   ]
  },
  {
   "cell_type": "code",
   "execution_count": 7,
   "metadata": {},
   "outputs": [],
   "source": [
    "library(rpart)"
   ]
  },
  {
   "cell_type": "code",
   "execution_count": 9,
   "metadata": {},
   "outputs": [
    {
     "data": {
      "text/plain": [
       "n= 150 \n",
       "\n",
       "node), split, n, loss, yval, (yprob)\n",
       "      * denotes terminal node\n",
       "\n",
       "1) root 150 100 setosa (0.33333333 0.33333333 0.33333333)  \n",
       "  2) Petal.Length< 2.45 50   0 setosa (1.00000000 0.00000000 0.00000000) *\n",
       "  3) Petal.Length>=2.45 100  50 versicolor (0.00000000 0.50000000 0.50000000)  \n",
       "    6) Petal.Width< 1.75 54   5 versicolor (0.00000000 0.90740741 0.09259259) *\n",
       "    7) Petal.Width>=1.75 46   1 virginica (0.00000000 0.02173913 0.97826087) *"
      ]
     },
     "metadata": {},
     "output_type": "display_data"
    }
   ],
   "source": [
    "iris_tree"
   ]
  },
  {
   "cell_type": "code",
   "execution_count": null,
   "metadata": {},
   "outputs": [],
   "source": []
  },
  {
   "cell_type": "code",
   "execution_count": 10,
   "metadata": {},
   "outputs": [
    {
     "data": {
      "image/png": "[encoded data removed]",
      "text/plain": [
       "plot without title"
      ]
     },
     "metadata": {},
     "output_type": "display_data"
    }
   ],
   "source": [
    "plotcp(iris_tree)"
   ]
  },
  {
   "cell_type": "code",
   "execution_count": 11,
   "metadata": {},
   "outputs": [
    {
     "data": {
      "image/png": "[encoded data removed]",
      "text/plain": [
       "Plot with title \"Classificação das Iris\""
      ]
     },
     "metadata": {},
     "output_type": "display_data"
    }
   ],
   "source": [
    "plot(iris_tree, uniform=TRUE, main=\"Classificação das Iris\")\n",
    "text(iris_tree,use.n=TRUE, all= TRUE, cex=.75)\n"
   ]
  },
  {
   "cell_type": "code",
   "execution_count": 12,
   "metadata": {},
   "outputs": [
    {
     "data": {
      "text/plain": [
       "            \n",
       "             setosa versicolor virginica\n",
       "  setosa         50          0         0\n",
       "  versicolor      0         49         5\n",
       "  virginica       0          1        45"
      ]
     },
     "metadata": {},
     "output_type": "display_data"
    }
   ],
   "source": [
    "table(predict(iris_tree, iris, type =\"class\"), iris[ , \"Species\"])\n"
   ]
  },
  {
   "cell_type": "code",
   "execution_count": 13,
   "metadata": {},
   "outputs": [
    {
     "name": "stderr",
     "output_type": "stream",
     "text": [
      "Your code contains a unicode char which cannot be displayed in your\n",
      "current locale and R will silently convert it to an escaped form when the\n",
      "R kernel executes this code. This can lead to subtle errors if you use\n",
      "such chars to do comparisons. For more information, please see\n",
      "https://github.com/IRkernel/repr/wiki/Problems-with-unicode-on-windows"
     ]
    },
    {
     "ename": "ERROR",
     "evalue": "Error in parse(text = x, srcfile = src): <text>:2:1: '<' inesperado\n1: iris_tree2 <-C5.0(Species ~ ., data=iris_train)\n2: <\n   ^\n",
     "output_type": "error",
     "traceback": [
      "Error in parse(text = x, srcfile = src): <text>:2:1: '<' inesperado\n1: iris_tree2 <-C5.0(Species ~ ., data=iris_train)\n2: <\n   ^\nTraceback:\n"
     ]
    }
   ],
   "source": [
    "iris_tree2 <-C5.0(Species ~ ., data=iris_train)\n",
    "​"
   ]
  },
  {
   "cell_type": "code",
   "execution_count": 16,
   "metadata": {},
   "outputs": [],
   "source": [
    "iris_tree2 <-C5.0(Species ~ ., data=iris_train)"
   ]
  },
  {
   "cell_type": "code",
   "execution_count": 15,
   "metadata": {},
   "outputs": [],
   "source": [
    "set.seed(17)\n",
    "myiris <- iris\n",
    "\n",
    "random <- sample(1:nrow(iris), 0.8 * nrow(iris))\n",
    "iris_train <- myiris[random, ]\n",
    "iris_test <- myiris[-random, ]"
   ]
  },
  {
   "cell_type": "code",
   "execution_count": 17,
   "metadata": {},
   "outputs": [
    {
     "data": {
      "text/plain": [
       "\n",
       "Call:\n",
       "C5.0.formula(formula = Species ~ ., data = iris_train)\n",
       "\n",
       "\n",
       "C5.0 [Release 2.07 GPL Edition]  \tMon Aug 19 11:13:14 2019\n",
       "-------------------------------\n",
       "\n",
       "Class specified by attribute `outcome'\n",
       "\n",
       "Read 120 cases (5 attributes) from undefined.data\n",
       "\n",
       "Decision tree:\n",
       "\n",
       "Petal.Length <= 1.9: setosa (44)\n",
       "Petal.Length > 1.9:\n",
       ":...Petal.Width > 1.7: virginica (36/1)\n",
       "    Petal.Width <= 1.7:\n",
       "    :...Petal.Length <= 5.3: versicolor (38/2)\n",
       "        Petal.Length > 5.3: virginica (2)\n",
       "\n",
       "\n",
       "Evaluation on training data (120 cases):\n",
       "\n",
       "\t    Decision Tree   \n",
       "\t  ----------------  \n",
       "\t  Size      Errors  \n",
       "\n",
       "\t     4    3( 2.5%)   <<\n",
       "\n",
       "\n",
       "\t   (a)   (b)   (c)    <-classified as\n",
       "\t  ----  ----  ----\n",
       "\t    44                (a): class setosa\n",
       "\t          36     1    (b): class versicolor\n",
       "\t           2    37    (c): class virginica\n",
       "\n",
       "\n",
       "\tAttribute usage:\n",
       "\n",
       "\t100.00%\tPetal.Length\n",
       "\t 63.33%\tPetal.Width\n",
       "\n",
       "\n",
       "Time: 0.0 secs\n"
      ]
     },
     "metadata": {},
     "output_type": "display_data"
    }
   ],
   "source": [
    "summary(iris_tree2)"
   ]
  },
  {
   "cell_type": "code",
   "execution_count": 18,
   "metadata": {},
   "outputs": [
    {
     "data": {
      "image/png": "[encoded data removed]",
      "text/plain": [
       "plot without title"
      ]
     },
     "metadata": {},
     "output_type": "display_data"
    }
   ],
   "source": [
    "plot(iris_tree2,main=\"Método C 5.0\")"
   ]
  },
  {
   "cell_type": "code",
   "execution_count": 29,
   "metadata": {},
   "outputs": [],
   "source": [
    "irisprev_tree2<-predict(iris_tree2, iris_test)\n",
    "confusion <- confusionMatrix(iris_test$Species,irisprev_tree2)\n"
   ]
  },
  {
   "cell_type": "code",
   "execution_count": 20,
   "metadata": {},
   "outputs": [
    {
     "name": "stdout",
     "output_type": "stream",
     "text": [
      "package 'caret' successfully unpacked and MD5 sums checked\n",
      "\n",
      "The downloaded binary packages are in\n",
      "\tC:\\Users\\mirian.batista\\AppData\\Local\\Temp\\RtmpkTD98T\\downloaded_packages\n"
     ]
    }
   ],
   "source": [
    "install.packages(\"caret\") #alguns plots\n"
   ]
  },
  {
   "cell_type": "code",
   "execution_count": 21,
   "metadata": {},
   "outputs": [
    {
     "name": "stdout",
     "output_type": "stream",
     "text": [
      "package 'xtable' successfully unpacked and MD5 sums checked\n",
      "\n",
      "The downloaded binary packages are in\n",
      "\tC:\\Users\\mirian.batista\\AppData\\Local\\Temp\\RtmpkTD98T\\downloaded_packages\n"
     ]
    }
   ],
   "source": [
    "install.packages(\"xtable\") #Matrix de Confusão\n"
   ]
  },
  {
   "cell_type": "code",
   "execution_count": 23,
   "metadata": {},
   "outputs": [
    {
     "name": "stderr",
     "output_type": "stream",
     "text": [
      "Loading required package: lattice\n",
      "Loading required package: ggplot2\n",
      "Registered S3 methods overwritten by 'ggplot2':\n",
      "  method         from \n",
      "  [.quosures     rlang\n",
      "  c.quosures     rlang\n",
      "  print.quosures rlang\n"
     ]
    }
   ],
   "source": [
    "library(caret) #alguns plots\n",
    "library(xtable) #Matrix de Confusão\n"
   ]
  },
  {
   "cell_type": "code",
   "execution_count": 27,
   "metadata": {},
   "outputs": [
    {
     "name": "stdout",
     "output_type": "stream",
     "text": [
      "package 'e1071' successfully unpacked and MD5 sums checked\n",
      "\n",
      "The downloaded binary packages are in\n",
      "\tC:\\Users\\mirian.batista\\AppData\\Local\\Temp\\RtmpkTD98T\\downloaded_packages\n"
     ]
    }
   ],
   "source": [
    "install.packages(\"e1071\")"
   ]
  },
  {
   "cell_type": "code",
   "execution_count": 28,
   "metadata": {},
   "outputs": [],
   "source": [
    "library(e1071)"
   ]
  },
  {
   "cell_type": "code",
   "execution_count": 30,
   "metadata": {},
   "outputs": [
    {
     "data": {
      "text/plain": [
       "Confusion Matrix and Statistics\n",
       "\n",
       "            Reference\n",
       "Prediction   setosa versicolor virginica\n",
       "  setosa          6          0         0\n",
       "  versicolor      0         13         0\n",
       "  virginica       0          1        10\n",
       "\n",
       "Overall Statistics\n",
       "                                          \n",
       "               Accuracy : 0.9667          \n",
       "                 95% CI : (0.8278, 0.9992)\n",
       "    No Information Rate : 0.4667          \n",
       "    P-Value [Acc > NIR] : 4.148e-09       \n",
       "                                          \n",
       "                  Kappa : 0.9476          \n",
       "                                          \n",
       " Mcnemar's Test P-Value : NA              \n",
       "\n",
       "Statistics by Class:\n",
       "\n",
       "                     Class: setosa Class: versicolor Class: virginica\n",
       "Sensitivity                    1.0            0.9286           1.0000\n",
       "Specificity                    1.0            1.0000           0.9500\n",
       "Pos Pred Value                 1.0            1.0000           0.9091\n",
       "Neg Pred Value                 1.0            0.9412           1.0000\n",
       "Prevalence                     0.2            0.4667           0.3333\n",
       "Detection Rate                 0.2            0.4333           0.3333\n",
       "Detection Prevalence           0.2            0.4333           0.3667\n",
       "Balanced Accuracy              1.0            0.9643           0.9750"
      ]
     },
     "metadata": {},
     "output_type": "display_data"
    }
   ],
   "source": [
    "confusion"
   ]
  },
  {
   "cell_type": "code",
   "execution_count": 31,
   "metadata": {},
   "outputs": [
    {
     "data": {
      "text/plain": [
       "            \n",
       "             setosa versicolor virginica\n",
       "  setosa         44          0         0\n",
       "  versicolor      0         36         4\n",
       "  virginica       0          1        35"
      ]
     },
     "metadata": {},
     "output_type": "display_data"
    }
   ],
   "source": [
    "table(predict(iris_tree, iris_train, type =\"class\"), iris_train[ , \"Species\"])\n"
   ]
  },
  {
   "cell_type": "code",
   "execution_count": 32,
   "metadata": {},
   "outputs": [
    {
     "data": {
      "text/plain": [
       "            \n",
       "             setosa versicolor virginica\n",
       "  setosa          6          0         0\n",
       "  versicolor      0         13         1\n",
       "  virginica       0          0        10"
      ]
     },
     "metadata": {},
     "output_type": "display_data"
    }
   ],
   "source": [
    "table(predict(iris_tree, iris_test, type =\"class\"), iris_test[ , \"Species\"])"
   ]
  },
  {
   "cell_type": "code",
   "execution_count": 33,
   "metadata": {},
   "outputs": [],
   "source": [
    "data(\"Titanic\")\n",
    "\n",
    "Titanic_df=as.data.frame(Titanic)\n",
    "\n",
    "repeating_sequence=rep.int(seq_len(nrow(Titanic_df)), Titanic_df$Freq) #Repete cada combinação em acordo com a frequência dos dados originais\n",
    " \n",
    "Titanic_dataset=Titanic_df[repeating_sequence,]\n",
    "#Não precisamos da frequencia\n",
    "Titanic_dataset$Freq=NULL\n"
   ]
  },
  {
   "cell_type": "code",
   "execution_count": 34,
   "metadata": {},
   "outputs": [],
   "source": [
    "Titanic_logit<-glm(Survived ~ ., data=Titanic_dataset, family='binomial')\n"
   ]
  },
  {
   "cell_type": "code",
   "execution_count": 35,
   "metadata": {},
   "outputs": [
    {
     "data": {
      "text/plain": [
       "\n",
       "Call:  glm(formula = Survived ~ ., family = \"binomial\", data = Titanic_dataset)\n",
       "\n",
       "Coefficients:\n",
       "(Intercept)     Class2nd     Class3rd    ClassCrew    SexFemale     AgeAdult  \n",
       "     0.6853      -1.0181      -1.7778      -0.8577       2.4201      -1.0615  \n",
       "\n",
       "Degrees of Freedom: 2200 Total (i.e. Null);  2195 Residual\n",
       "Null Deviance:\t    2769 \n",
       "Residual Deviance: 2210 \tAIC: 2222"
      ]
     },
     "metadata": {},
     "output_type": "display_data"
    }
   ],
   "source": [
    "Titanic_logit"
   ]
  },
  {
   "cell_type": "code",
   "execution_count": 36,
   "metadata": {},
   "outputs": [
    {
     "data": {
      "text/plain": [
       "\n",
       "Call:\n",
       "glm(formula = Survived ~ ., family = \"binomial\", data = Titanic_dataset)\n",
       "\n",
       "Deviance Residuals: \n",
       "    Min       1Q   Median       3Q      Max  \n",
       "-2.0812  -0.7149  -0.6656   0.6858   2.1278  \n",
       "\n",
       "Coefficients:\n",
       "            Estimate Std. Error z value Pr(>|z|)    \n",
       "(Intercept)   0.6853     0.2730   2.510   0.0121 *  \n",
       "Class2nd     -1.0181     0.1960  -5.194 2.05e-07 ***\n",
       "Class3rd     -1.7778     0.1716 -10.362  < 2e-16 ***\n",
       "ClassCrew    -0.8577     0.1573  -5.451 5.00e-08 ***\n",
       "SexFemale     2.4201     0.1404  17.236  < 2e-16 ***\n",
       "AgeAdult     -1.0615     0.2440  -4.350 1.36e-05 ***\n",
       "---\n",
       "Signif. codes:  0 '***' 0.001 '**' 0.01 '*' 0.05 '.' 0.1 ' ' 1\n",
       "\n",
       "(Dispersion parameter for binomial family taken to be 1)\n",
       "\n",
       "    Null deviance: 2769.5  on 2200  degrees of freedom\n",
       "Residual deviance: 2210.1  on 2195  degrees of freedom\n",
       "AIC: 2222.1\n",
       "\n",
       "Number of Fisher Scoring iterations: 4\n"
      ]
     },
     "metadata": {},
     "output_type": "display_data"
    }
   ],
   "source": [
    "summary(Titanic_logit)\n"
   ]
  },
  {
   "cell_type": "code",
   "execution_count": 37,
   "metadata": {},
   "outputs": [],
   "source": [
    "Titanic_pred<-predict(Titanic_logit, Titanic_dataset, type=\"response\")"
   ]
  },
  {
   "cell_type": "code",
   "execution_count": 38,
   "metadata": {},
   "outputs": [
    {
     "data": {
      "text/plain": [
       "     \n",
       "      FALSE TRUE\n",
       "  No   1364  126\n",
       "  Yes   362  349"
      ]
     },
     "metadata": {},
     "output_type": "display_data"
    }
   ],
   "source": [
    "table(Titanic_dataset$Survived, Titanic_pred > 0.5 )"
   ]
  },
  {
   "cell_type": "code",
   "execution_count": 39,
   "metadata": {},
   "outputs": [
    {
     "name": "stdout",
     "output_type": "stream",
     "text": [
      "Start:  AIC=2222.06\n",
      "Survived ~ Class + Sex + Age\n",
      "\n",
      "        Df Deviance    AIC\n",
      "<none>       2210.1 2222.1\n",
      "- Age    1   2228.9 2238.9\n",
      "- Class  3   2329.1 2335.1\n",
      "- Sex    1   2563.0 2573.0\n"
     ]
    }
   ],
   "source": [
    "Titanic_step<-step(Titanic_logit)"
   ]
  },
  {
   "cell_type": "code",
   "execution_count": 40,
   "metadata": {},
   "outputs": [
    {
     "data": {
      "text/plain": [
       "\n",
       "Call:\n",
       "glm(formula = Survived ~ Class + Sex + Age, family = \"binomial\", \n",
       "    data = Titanic_dataset)\n",
       "\n",
       "Deviance Residuals: \n",
       "    Min       1Q   Median       3Q      Max  \n",
       "-2.0812  -0.7149  -0.6656   0.6858   2.1278  \n",
       "\n",
       "Coefficients:\n",
       "            Estimate Std. Error z value Pr(>|z|)    \n",
       "(Intercept)   0.6853     0.2730   2.510   0.0121 *  \n",
       "Class2nd     -1.0181     0.1960  -5.194 2.05e-07 ***\n",
       "Class3rd     -1.7778     0.1716 -10.362  < 2e-16 ***\n",
       "ClassCrew    -0.8577     0.1573  -5.451 5.00e-08 ***\n",
       "SexFemale     2.4201     0.1404  17.236  < 2e-16 ***\n",
       "AgeAdult     -1.0615     0.2440  -4.350 1.36e-05 ***\n",
       "---\n",
       "Signif. codes:  0 '***' 0.001 '**' 0.01 '*' 0.05 '.' 0.1 ' ' 1\n",
       "\n",
       "(Dispersion parameter for binomial family taken to be 1)\n",
       "\n",
       "    Null deviance: 2769.5  on 2200  degrees of freedom\n",
       "Residual deviance: 2210.1  on 2195  degrees of freedom\n",
       "AIC: 2222.1\n",
       "\n",
       "Number of Fisher Scoring iterations: 4\n"
      ]
     },
     "metadata": {},
     "output_type": "display_data"
    }
   ],
   "source": [
    "summary(Titanic_step)"
   ]
  },
  {
   "cell_type": "code",
   "execution_count": 41,
   "metadata": {},
   "outputs": [
    {
     "data": {
      "text/plain": [
       "     \n",
       "      FALSE TRUE\n",
       "  No   1364  126\n",
       "  Yes   362  349"
      ]
     },
     "metadata": {},
     "output_type": "display_data"
    }
   ],
   "source": [
    "Titanic_s_pred<-predict(Titanic_step, Titanic_dataset, type=\"response\")\n",
    "table(Titanic_dataset$Survived, Titanic_s_pred > 0.5 )"
   ]
  },
  {
   "cell_type": "code",
   "execution_count": null,
   "metadata": {},
   "outputs": [],
   "source": []
  }
 ],
 "metadata": {
  "kernelspec": {
   "display_name": "R",
   "language": "R",
   "name": "ir"
  },
  "language_info": {
   "codemirror_mode": "r",
   "file_extension": ".r",
   "mimetype": "text/x-r-source",
   "name": "R",
   "pygments_lexer": "r",
   "version": "3.6.1"
  }
 },
 "nbformat": 4,
 "nbformat_minor": 2
}
