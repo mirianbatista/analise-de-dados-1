{
 "cells": [
  {
   "cell_type": "code",
   "execution_count": 2,
   "metadata": {},
   "outputs": [
    {
     "name": "stderr",
     "output_type": "stream",
     "text": [
      "Installing package into ‘/srv/rlibs’\n",
      "(as ‘lib’ is unspecified)\n"
     ]
    }
   ],
   "source": [
    "install.packages(\"OneR\")"
   ]
  },
  {
   "cell_type": "code",
   "execution_count": 3,
   "metadata": {},
   "outputs": [],
   "source": [
    "library(\"OneR\")"
   ]
  },
  {
   "cell_type": "code",
   "execution_count": 4,
   "metadata": {},
   "outputs": [],
   "source": [
    "set.seed(12)"
   ]
  },
  {
   "cell_type": "code",
   "execution_count": 5,
   "metadata": {},
   "outputs": [
    {
     "data": {
      "text/html": [
       "<table>\n",
       "<caption>A data.frame: 699 × 10</caption>\n",
       "<thead>\n",
       "\t<tr><th scope=col>Clump Thickness</th><th scope=col>Uniformity of Cell Size</th><th scope=col>Uniformity of Cell Shape</th><th scope=col>Marginal Adhesion</th><th scope=col>Single Epithelial Cell Size</th><th scope=col>Bare Nuclei</th><th scope=col>Bland Chromatin</th><th scope=col>Normal Nucleoli</th><th scope=col>Mitoses</th><th scope=col>Class</th></tr>\n",
       "\t<tr><th scope=col>&lt;int&gt;</th><th scope=col>&lt;int&gt;</th><th scope=col>&lt;int&gt;</th><th scope=col>&lt;int&gt;</th><th scope=col>&lt;int&gt;</th><th scope=col>&lt;int&gt;</th><th scope=col>&lt;int&gt;</th><th scope=col>&lt;int&gt;</th><th scope=col>&lt;int&gt;</th><th scope=col>&lt;fct&gt;</th></tr>\n",
       "</thead>\n",
       "<tbody>\n",
       "\t<tr><td> 5</td><td> 1</td><td> 1</td><td> 1</td><td>2</td><td> 1</td><td>3</td><td> 1</td><td>1</td><td>benign   </td></tr>\n",
       "\t<tr><td> 5</td><td> 4</td><td> 4</td><td> 5</td><td>7</td><td>10</td><td>3</td><td> 2</td><td>1</td><td>benign   </td></tr>\n",
       "\t<tr><td> 3</td><td> 1</td><td> 1</td><td> 1</td><td>2</td><td> 2</td><td>3</td><td> 1</td><td>1</td><td>benign   </td></tr>\n",
       "\t<tr><td> 6</td><td> 8</td><td> 8</td><td> 1</td><td>3</td><td> 4</td><td>3</td><td> 7</td><td>1</td><td>benign   </td></tr>\n",
       "\t<tr><td> 4</td><td> 1</td><td> 1</td><td> 3</td><td>2</td><td> 1</td><td>3</td><td> 1</td><td>1</td><td>benign   </td></tr>\n",
       "\t<tr><td> 8</td><td>10</td><td>10</td><td> 8</td><td>7</td><td>10</td><td>9</td><td> 7</td><td>1</td><td>malignant</td></tr>\n",
       "\t<tr><td> 1</td><td> 1</td><td> 1</td><td> 1</td><td>2</td><td>10</td><td>3</td><td> 1</td><td>1</td><td>benign   </td></tr>\n",
       "\t<tr><td> 2</td><td> 1</td><td> 2</td><td> 1</td><td>2</td><td> 1</td><td>3</td><td> 1</td><td>1</td><td>benign   </td></tr>\n",
       "\t<tr><td> 2</td><td> 1</td><td> 1</td><td> 1</td><td>2</td><td> 1</td><td>1</td><td> 1</td><td>5</td><td>benign   </td></tr>\n",
       "\t<tr><td> 4</td><td> 2</td><td> 1</td><td> 1</td><td>2</td><td> 1</td><td>2</td><td> 1</td><td>1</td><td>benign   </td></tr>\n",
       "\t<tr><td> 1</td><td> 1</td><td> 1</td><td> 1</td><td>1</td><td> 1</td><td>3</td><td> 1</td><td>1</td><td>benign   </td></tr>\n",
       "\t<tr><td> 2</td><td> 1</td><td> 1</td><td> 1</td><td>2</td><td> 1</td><td>2</td><td> 1</td><td>1</td><td>benign   </td></tr>\n",
       "\t<tr><td> 5</td><td> 3</td><td> 3</td><td> 3</td><td>2</td><td> 3</td><td>4</td><td> 4</td><td>1</td><td>malignant</td></tr>\n",
       "\t<tr><td> 1</td><td> 1</td><td> 1</td><td> 1</td><td>2</td><td> 3</td><td>3</td><td> 1</td><td>1</td><td>benign   </td></tr>\n",
       "\t<tr><td> 8</td><td> 7</td><td> 5</td><td>10</td><td>7</td><td> 9</td><td>5</td><td> 5</td><td>4</td><td>malignant</td></tr>\n",
       "\t<tr><td> 7</td><td> 4</td><td> 6</td><td> 4</td><td>6</td><td> 1</td><td>4</td><td> 3</td><td>1</td><td>malignant</td></tr>\n",
       "\t<tr><td> 4</td><td> 1</td><td> 1</td><td> 1</td><td>2</td><td> 1</td><td>2</td><td> 1</td><td>1</td><td>benign   </td></tr>\n",
       "\t<tr><td> 4</td><td> 1</td><td> 1</td><td> 1</td><td>2</td><td> 1</td><td>3</td><td> 1</td><td>1</td><td>benign   </td></tr>\n",
       "\t<tr><td>10</td><td> 7</td><td> 7</td><td> 6</td><td>4</td><td>10</td><td>4</td><td> 1</td><td>2</td><td>malignant</td></tr>\n",
       "\t<tr><td> 6</td><td> 1</td><td> 1</td><td> 1</td><td>2</td><td> 1</td><td>3</td><td> 1</td><td>1</td><td>benign   </td></tr>\n",
       "\t<tr><td> 7</td><td> 3</td><td> 2</td><td>10</td><td>5</td><td>10</td><td>5</td><td> 4</td><td>4</td><td>malignant</td></tr>\n",
       "\t<tr><td>10</td><td> 5</td><td> 5</td><td> 3</td><td>6</td><td> 7</td><td>7</td><td>10</td><td>1</td><td>malignant</td></tr>\n",
       "\t<tr><td> 3</td><td> 1</td><td> 1</td><td> 1</td><td>2</td><td> 1</td><td>2</td><td> 1</td><td>1</td><td>benign   </td></tr>\n",
       "\t<tr><td> 8</td><td> 4</td><td> 5</td><td> 1</td><td>2</td><td>NA</td><td>7</td><td> 3</td><td>1</td><td>malignant</td></tr>\n",
       "\t<tr><td> 1</td><td> 1</td><td> 1</td><td> 1</td><td>2</td><td> 1</td><td>3</td><td> 1</td><td>1</td><td>benign   </td></tr>\n",
       "\t<tr><td> 5</td><td> 2</td><td> 3</td><td> 4</td><td>2</td><td> 7</td><td>3</td><td> 6</td><td>1</td><td>malignant</td></tr>\n",
       "\t<tr><td> 3</td><td> 2</td><td> 1</td><td> 1</td><td>1</td><td> 1</td><td>2</td><td> 1</td><td>1</td><td>benign   </td></tr>\n",
       "\t<tr><td> 5</td><td> 1</td><td> 1</td><td> 1</td><td>2</td><td> 1</td><td>2</td><td> 1</td><td>1</td><td>benign   </td></tr>\n",
       "\t<tr><td> 2</td><td> 1</td><td> 1</td><td> 1</td><td>2</td><td> 1</td><td>2</td><td> 1</td><td>1</td><td>benign   </td></tr>\n",
       "\t<tr><td> 1</td><td> 1</td><td> 3</td><td> 1</td><td>2</td><td> 1</td><td>1</td><td> 1</td><td>1</td><td>benign   </td></tr>\n",
       "\t<tr><td>⋮</td><td>⋮</td><td>⋮</td><td>⋮</td><td>⋮</td><td>⋮</td><td>⋮</td><td>⋮</td><td>⋮</td><td>⋮</td></tr>\n",
       "\t<tr><td> 5</td><td>10</td><td>10</td><td> 8</td><td>5</td><td> 5</td><td> 7</td><td>10</td><td>1</td><td>malignant</td></tr>\n",
       "\t<tr><td> 3</td><td>10</td><td> 7</td><td> 8</td><td>5</td><td> 8</td><td> 7</td><td> 4</td><td>1</td><td>malignant</td></tr>\n",
       "\t<tr><td> 3</td><td> 2</td><td> 1</td><td> 2</td><td>2</td><td> 1</td><td> 3</td><td> 1</td><td>1</td><td>benign   </td></tr>\n",
       "\t<tr><td> 2</td><td> 1</td><td> 1</td><td> 1</td><td>2</td><td> 1</td><td> 3</td><td> 1</td><td>1</td><td>benign   </td></tr>\n",
       "\t<tr><td> 5</td><td> 3</td><td> 2</td><td> 1</td><td>3</td><td> 1</td><td> 1</td><td> 1</td><td>1</td><td>benign   </td></tr>\n",
       "\t<tr><td> 1</td><td> 1</td><td> 1</td><td> 1</td><td>2</td><td> 1</td><td> 2</td><td> 1</td><td>1</td><td>benign   </td></tr>\n",
       "\t<tr><td> 4</td><td> 1</td><td> 4</td><td> 1</td><td>2</td><td> 1</td><td> 1</td><td> 1</td><td>1</td><td>benign   </td></tr>\n",
       "\t<tr><td> 1</td><td> 1</td><td> 2</td><td> 1</td><td>2</td><td> 1</td><td> 2</td><td> 1</td><td>1</td><td>benign   </td></tr>\n",
       "\t<tr><td> 5</td><td> 1</td><td> 1</td><td> 1</td><td>2</td><td> 1</td><td> 1</td><td> 1</td><td>1</td><td>benign   </td></tr>\n",
       "\t<tr><td> 1</td><td> 1</td><td> 1</td><td> 1</td><td>2</td><td> 1</td><td> 1</td><td> 1</td><td>1</td><td>benign   </td></tr>\n",
       "\t<tr><td> 2</td><td> 1</td><td> 1</td><td> 1</td><td>2</td><td> 1</td><td> 1</td><td> 1</td><td>1</td><td>benign   </td></tr>\n",
       "\t<tr><td>10</td><td>10</td><td>10</td><td>10</td><td>5</td><td>10</td><td>10</td><td>10</td><td>7</td><td>malignant</td></tr>\n",
       "\t<tr><td> 5</td><td>10</td><td>10</td><td>10</td><td>4</td><td>10</td><td> 5</td><td> 6</td><td>3</td><td>malignant</td></tr>\n",
       "\t<tr><td> 5</td><td> 1</td><td> 1</td><td> 1</td><td>2</td><td> 1</td><td> 3</td><td> 2</td><td>1</td><td>benign   </td></tr>\n",
       "\t<tr><td> 1</td><td> 1</td><td> 1</td><td> 1</td><td>2</td><td> 1</td><td> 1</td><td> 1</td><td>1</td><td>benign   </td></tr>\n",
       "\t<tr><td> 1</td><td> 1</td><td> 1</td><td> 1</td><td>2</td><td> 1</td><td> 1</td><td> 1</td><td>1</td><td>benign   </td></tr>\n",
       "\t<tr><td> 1</td><td> 1</td><td> 1</td><td> 1</td><td>2</td><td> 1</td><td> 1</td><td> 1</td><td>1</td><td>benign   </td></tr>\n",
       "\t<tr><td> 1</td><td> 1</td><td> 1</td><td> 1</td><td>2</td><td> 1</td><td> 1</td><td> 1</td><td>1</td><td>benign   </td></tr>\n",
       "\t<tr><td> 3</td><td> 1</td><td> 1</td><td> 1</td><td>2</td><td> 1</td><td> 2</td><td> 3</td><td>1</td><td>benign   </td></tr>\n",
       "\t<tr><td> 4</td><td> 1</td><td> 1</td><td> 1</td><td>2</td><td> 1</td><td> 1</td><td> 1</td><td>1</td><td>benign   </td></tr>\n",
       "\t<tr><td> 1</td><td> 1</td><td> 1</td><td> 1</td><td>2</td><td> 1</td><td> 1</td><td> 1</td><td>8</td><td>benign   </td></tr>\n",
       "\t<tr><td> 1</td><td> 1</td><td> 1</td><td> 3</td><td>2</td><td> 1</td><td> 1</td><td> 1</td><td>1</td><td>benign   </td></tr>\n",
       "\t<tr><td> 5</td><td>10</td><td>10</td><td> 5</td><td>4</td><td> 5</td><td> 4</td><td> 4</td><td>1</td><td>malignant</td></tr>\n",
       "\t<tr><td> 3</td><td> 1</td><td> 1</td><td> 1</td><td>2</td><td> 1</td><td> 1</td><td> 1</td><td>1</td><td>benign   </td></tr>\n",
       "\t<tr><td> 3</td><td> 1</td><td> 1</td><td> 1</td><td>2</td><td> 1</td><td> 2</td><td> 1</td><td>2</td><td>benign   </td></tr>\n",
       "\t<tr><td> 3</td><td> 1</td><td> 1</td><td> 1</td><td>3</td><td> 2</td><td> 1</td><td> 1</td><td>1</td><td>benign   </td></tr>\n",
       "\t<tr><td> 2</td><td> 1</td><td> 1</td><td> 1</td><td>2</td><td> 1</td><td> 1</td><td> 1</td><td>1</td><td>benign   </td></tr>\n",
       "\t<tr><td> 5</td><td>10</td><td>10</td><td> 3</td><td>7</td><td> 3</td><td> 8</td><td>10</td><td>2</td><td>malignant</td></tr>\n",
       "\t<tr><td> 4</td><td> 8</td><td> 6</td><td> 4</td><td>3</td><td> 4</td><td>10</td><td> 6</td><td>1</td><td>malignant</td></tr>\n",
       "\t<tr><td> 4</td><td> 8</td><td> 8</td><td> 5</td><td>4</td><td> 5</td><td>10</td><td> 4</td><td>1</td><td>malignant</td></tr>\n",
       "</tbody>\n",
       "</table>\n"
      ],
      "text/latex": [
       "A data.frame: 699 × 10\n",
       "\\begin{tabular}{r|llllllllll}\n",
       " Clump Thickness & Uniformity of Cell Size & Uniformity of Cell Shape & Marginal Adhesion & Single Epithelial Cell Size & Bare Nuclei & Bland Chromatin & Normal Nucleoli & Mitoses & Class\\\\\n",
       " <int> & <int> & <int> & <int> & <int> & <int> & <int> & <int> & <int> & <fct>\\\\\n",
       "\\hline\n",
       "\t  5 &  1 &  1 &  1 & 2 &  1 & 3 &  1 & 1 & benign   \\\\\n",
       "\t  5 &  4 &  4 &  5 & 7 & 10 & 3 &  2 & 1 & benign   \\\\\n",
       "\t  3 &  1 &  1 &  1 & 2 &  2 & 3 &  1 & 1 & benign   \\\\\n",
       "\t  6 &  8 &  8 &  1 & 3 &  4 & 3 &  7 & 1 & benign   \\\\\n",
       "\t  4 &  1 &  1 &  3 & 2 &  1 & 3 &  1 & 1 & benign   \\\\\n",
       "\t  8 & 10 & 10 &  8 & 7 & 10 & 9 &  7 & 1 & malignant\\\\\n",
       "\t  1 &  1 &  1 &  1 & 2 & 10 & 3 &  1 & 1 & benign   \\\\\n",
       "\t  2 &  1 &  2 &  1 & 2 &  1 & 3 &  1 & 1 & benign   \\\\\n",
       "\t  2 &  1 &  1 &  1 & 2 &  1 & 1 &  1 & 5 & benign   \\\\\n",
       "\t  4 &  2 &  1 &  1 & 2 &  1 & 2 &  1 & 1 & benign   \\\\\n",
       "\t  1 &  1 &  1 &  1 & 1 &  1 & 3 &  1 & 1 & benign   \\\\\n",
       "\t  2 &  1 &  1 &  1 & 2 &  1 & 2 &  1 & 1 & benign   \\\\\n",
       "\t  5 &  3 &  3 &  3 & 2 &  3 & 4 &  4 & 1 & malignant\\\\\n",
       "\t  1 &  1 &  1 &  1 & 2 &  3 & 3 &  1 & 1 & benign   \\\\\n",
       "\t  8 &  7 &  5 & 10 & 7 &  9 & 5 &  5 & 4 & malignant\\\\\n",
       "\t  7 &  4 &  6 &  4 & 6 &  1 & 4 &  3 & 1 & malignant\\\\\n",
       "\t  4 &  1 &  1 &  1 & 2 &  1 & 2 &  1 & 1 & benign   \\\\\n",
       "\t  4 &  1 &  1 &  1 & 2 &  1 & 3 &  1 & 1 & benign   \\\\\n",
       "\t 10 &  7 &  7 &  6 & 4 & 10 & 4 &  1 & 2 & malignant\\\\\n",
       "\t  6 &  1 &  1 &  1 & 2 &  1 & 3 &  1 & 1 & benign   \\\\\n",
       "\t  7 &  3 &  2 & 10 & 5 & 10 & 5 &  4 & 4 & malignant\\\\\n",
       "\t 10 &  5 &  5 &  3 & 6 &  7 & 7 & 10 & 1 & malignant\\\\\n",
       "\t  3 &  1 &  1 &  1 & 2 &  1 & 2 &  1 & 1 & benign   \\\\\n",
       "\t  8 &  4 &  5 &  1 & 2 & NA & 7 &  3 & 1 & malignant\\\\\n",
       "\t  1 &  1 &  1 &  1 & 2 &  1 & 3 &  1 & 1 & benign   \\\\\n",
       "\t  5 &  2 &  3 &  4 & 2 &  7 & 3 &  6 & 1 & malignant\\\\\n",
       "\t  3 &  2 &  1 &  1 & 1 &  1 & 2 &  1 & 1 & benign   \\\\\n",
       "\t  5 &  1 &  1 &  1 & 2 &  1 & 2 &  1 & 1 & benign   \\\\\n",
       "\t  2 &  1 &  1 &  1 & 2 &  1 & 2 &  1 & 1 & benign   \\\\\n",
       "\t  1 &  1 &  3 &  1 & 2 &  1 & 1 &  1 & 1 & benign   \\\\\n",
       "\t ⋮ & ⋮ & ⋮ & ⋮ & ⋮ & ⋮ & ⋮ & ⋮ & ⋮ & ⋮\\\\\n",
       "\t  5 & 10 & 10 &  8 & 5 &  5 &  7 & 10 & 1 & malignant\\\\\n",
       "\t  3 & 10 &  7 &  8 & 5 &  8 &  7 &  4 & 1 & malignant\\\\\n",
       "\t  3 &  2 &  1 &  2 & 2 &  1 &  3 &  1 & 1 & benign   \\\\\n",
       "\t  2 &  1 &  1 &  1 & 2 &  1 &  3 &  1 & 1 & benign   \\\\\n",
       "\t  5 &  3 &  2 &  1 & 3 &  1 &  1 &  1 & 1 & benign   \\\\\n",
       "\t  1 &  1 &  1 &  1 & 2 &  1 &  2 &  1 & 1 & benign   \\\\\n",
       "\t  4 &  1 &  4 &  1 & 2 &  1 &  1 &  1 & 1 & benign   \\\\\n",
       "\t  1 &  1 &  2 &  1 & 2 &  1 &  2 &  1 & 1 & benign   \\\\\n",
       "\t  5 &  1 &  1 &  1 & 2 &  1 &  1 &  1 & 1 & benign   \\\\\n",
       "\t  1 &  1 &  1 &  1 & 2 &  1 &  1 &  1 & 1 & benign   \\\\\n",
       "\t  2 &  1 &  1 &  1 & 2 &  1 &  1 &  1 & 1 & benign   \\\\\n",
       "\t 10 & 10 & 10 & 10 & 5 & 10 & 10 & 10 & 7 & malignant\\\\\n",
       "\t  5 & 10 & 10 & 10 & 4 & 10 &  5 &  6 & 3 & malignant\\\\\n",
       "\t  5 &  1 &  1 &  1 & 2 &  1 &  3 &  2 & 1 & benign   \\\\\n",
       "\t  1 &  1 &  1 &  1 & 2 &  1 &  1 &  1 & 1 & benign   \\\\\n",
       "\t  1 &  1 &  1 &  1 & 2 &  1 &  1 &  1 & 1 & benign   \\\\\n",
       "\t  1 &  1 &  1 &  1 & 2 &  1 &  1 &  1 & 1 & benign   \\\\\n",
       "\t  1 &  1 &  1 &  1 & 2 &  1 &  1 &  1 & 1 & benign   \\\\\n",
       "\t  3 &  1 &  1 &  1 & 2 &  1 &  2 &  3 & 1 & benign   \\\\\n",
       "\t  4 &  1 &  1 &  1 & 2 &  1 &  1 &  1 & 1 & benign   \\\\\n",
       "\t  1 &  1 &  1 &  1 & 2 &  1 &  1 &  1 & 8 & benign   \\\\\n",
       "\t  1 &  1 &  1 &  3 & 2 &  1 &  1 &  1 & 1 & benign   \\\\\n",
       "\t  5 & 10 & 10 &  5 & 4 &  5 &  4 &  4 & 1 & malignant\\\\\n",
       "\t  3 &  1 &  1 &  1 & 2 &  1 &  1 &  1 & 1 & benign   \\\\\n",
       "\t  3 &  1 &  1 &  1 & 2 &  1 &  2 &  1 & 2 & benign   \\\\\n",
       "\t  3 &  1 &  1 &  1 & 3 &  2 &  1 &  1 & 1 & benign   \\\\\n",
       "\t  2 &  1 &  1 &  1 & 2 &  1 &  1 &  1 & 1 & benign   \\\\\n",
       "\t  5 & 10 & 10 &  3 & 7 &  3 &  8 & 10 & 2 & malignant\\\\\n",
       "\t  4 &  8 &  6 &  4 & 3 &  4 & 10 &  6 & 1 & malignant\\\\\n",
       "\t  4 &  8 &  8 &  5 & 4 &  5 & 10 &  4 & 1 & malignant\\\\\n",
       "\\end{tabular}\n"
      ],
      "text/markdown": [
       "\n",
       "A data.frame: 699 × 10\n",
       "\n",
       "| Clump Thickness &lt;int&gt; | Uniformity of Cell Size &lt;int&gt; | Uniformity of Cell Shape &lt;int&gt; | Marginal Adhesion &lt;int&gt; | Single Epithelial Cell Size &lt;int&gt; | Bare Nuclei &lt;int&gt; | Bland Chromatin &lt;int&gt; | Normal Nucleoli &lt;int&gt; | Mitoses &lt;int&gt; | Class &lt;fct&gt; |\n",
       "|---|---|---|---|---|---|---|---|---|---|\n",
       "|  5 |  1 |  1 |  1 | 2 |  1 | 3 |  1 | 1 | benign    |\n",
       "|  5 |  4 |  4 |  5 | 7 | 10 | 3 |  2 | 1 | benign    |\n",
       "|  3 |  1 |  1 |  1 | 2 |  2 | 3 |  1 | 1 | benign    |\n",
       "|  6 |  8 |  8 |  1 | 3 |  4 | 3 |  7 | 1 | benign    |\n",
       "|  4 |  1 |  1 |  3 | 2 |  1 | 3 |  1 | 1 | benign    |\n",
       "|  8 | 10 | 10 |  8 | 7 | 10 | 9 |  7 | 1 | malignant |\n",
       "|  1 |  1 |  1 |  1 | 2 | 10 | 3 |  1 | 1 | benign    |\n",
       "|  2 |  1 |  2 |  1 | 2 |  1 | 3 |  1 | 1 | benign    |\n",
       "|  2 |  1 |  1 |  1 | 2 |  1 | 1 |  1 | 5 | benign    |\n",
       "|  4 |  2 |  1 |  1 | 2 |  1 | 2 |  1 | 1 | benign    |\n",
       "|  1 |  1 |  1 |  1 | 1 |  1 | 3 |  1 | 1 | benign    |\n",
       "|  2 |  1 |  1 |  1 | 2 |  1 | 2 |  1 | 1 | benign    |\n",
       "|  5 |  3 |  3 |  3 | 2 |  3 | 4 |  4 | 1 | malignant |\n",
       "|  1 |  1 |  1 |  1 | 2 |  3 | 3 |  1 | 1 | benign    |\n",
       "|  8 |  7 |  5 | 10 | 7 |  9 | 5 |  5 | 4 | malignant |\n",
       "|  7 |  4 |  6 |  4 | 6 |  1 | 4 |  3 | 1 | malignant |\n",
       "|  4 |  1 |  1 |  1 | 2 |  1 | 2 |  1 | 1 | benign    |\n",
       "|  4 |  1 |  1 |  1 | 2 |  1 | 3 |  1 | 1 | benign    |\n",
       "| 10 |  7 |  7 |  6 | 4 | 10 | 4 |  1 | 2 | malignant |\n",
       "|  6 |  1 |  1 |  1 | 2 |  1 | 3 |  1 | 1 | benign    |\n",
       "|  7 |  3 |  2 | 10 | 5 | 10 | 5 |  4 | 4 | malignant |\n",
       "| 10 |  5 |  5 |  3 | 6 |  7 | 7 | 10 | 1 | malignant |\n",
       "|  3 |  1 |  1 |  1 | 2 |  1 | 2 |  1 | 1 | benign    |\n",
       "|  8 |  4 |  5 |  1 | 2 | NA | 7 |  3 | 1 | malignant |\n",
       "|  1 |  1 |  1 |  1 | 2 |  1 | 3 |  1 | 1 | benign    |\n",
       "|  5 |  2 |  3 |  4 | 2 |  7 | 3 |  6 | 1 | malignant |\n",
       "|  3 |  2 |  1 |  1 | 1 |  1 | 2 |  1 | 1 | benign    |\n",
       "|  5 |  1 |  1 |  1 | 2 |  1 | 2 |  1 | 1 | benign    |\n",
       "|  2 |  1 |  1 |  1 | 2 |  1 | 2 |  1 | 1 | benign    |\n",
       "|  1 |  1 |  3 |  1 | 2 |  1 | 1 |  1 | 1 | benign    |\n",
       "| ⋮ | ⋮ | ⋮ | ⋮ | ⋮ | ⋮ | ⋮ | ⋮ | ⋮ | ⋮ |\n",
       "|  5 | 10 | 10 |  8 | 5 |  5 |  7 | 10 | 1 | malignant |\n",
       "|  3 | 10 |  7 |  8 | 5 |  8 |  7 |  4 | 1 | malignant |\n",
       "|  3 |  2 |  1 |  2 | 2 |  1 |  3 |  1 | 1 | benign    |\n",
       "|  2 |  1 |  1 |  1 | 2 |  1 |  3 |  1 | 1 | benign    |\n",
       "|  5 |  3 |  2 |  1 | 3 |  1 |  1 |  1 | 1 | benign    |\n",
       "|  1 |  1 |  1 |  1 | 2 |  1 |  2 |  1 | 1 | benign    |\n",
       "|  4 |  1 |  4 |  1 | 2 |  1 |  1 |  1 | 1 | benign    |\n",
       "|  1 |  1 |  2 |  1 | 2 |  1 |  2 |  1 | 1 | benign    |\n",
       "|  5 |  1 |  1 |  1 | 2 |  1 |  1 |  1 | 1 | benign    |\n",
       "|  1 |  1 |  1 |  1 | 2 |  1 |  1 |  1 | 1 | benign    |\n",
       "|  2 |  1 |  1 |  1 | 2 |  1 |  1 |  1 | 1 | benign    |\n",
       "| 10 | 10 | 10 | 10 | 5 | 10 | 10 | 10 | 7 | malignant |\n",
       "|  5 | 10 | 10 | 10 | 4 | 10 |  5 |  6 | 3 | malignant |\n",
       "|  5 |  1 |  1 |  1 | 2 |  1 |  3 |  2 | 1 | benign    |\n",
       "|  1 |  1 |  1 |  1 | 2 |  1 |  1 |  1 | 1 | benign    |\n",
       "|  1 |  1 |  1 |  1 | 2 |  1 |  1 |  1 | 1 | benign    |\n",
       "|  1 |  1 |  1 |  1 | 2 |  1 |  1 |  1 | 1 | benign    |\n",
       "|  1 |  1 |  1 |  1 | 2 |  1 |  1 |  1 | 1 | benign    |\n",
       "|  3 |  1 |  1 |  1 | 2 |  1 |  2 |  3 | 1 | benign    |\n",
       "|  4 |  1 |  1 |  1 | 2 |  1 |  1 |  1 | 1 | benign    |\n",
       "|  1 |  1 |  1 |  1 | 2 |  1 |  1 |  1 | 8 | benign    |\n",
       "|  1 |  1 |  1 |  3 | 2 |  1 |  1 |  1 | 1 | benign    |\n",
       "|  5 | 10 | 10 |  5 | 4 |  5 |  4 |  4 | 1 | malignant |\n",
       "|  3 |  1 |  1 |  1 | 2 |  1 |  1 |  1 | 1 | benign    |\n",
       "|  3 |  1 |  1 |  1 | 2 |  1 |  2 |  1 | 2 | benign    |\n",
       "|  3 |  1 |  1 |  1 | 3 |  2 |  1 |  1 | 1 | benign    |\n",
       "|  2 |  1 |  1 |  1 | 2 |  1 |  1 |  1 | 1 | benign    |\n",
       "|  5 | 10 | 10 |  3 | 7 |  3 |  8 | 10 | 2 | malignant |\n",
       "|  4 |  8 |  6 |  4 | 3 |  4 | 10 |  6 | 1 | malignant |\n",
       "|  4 |  8 |  8 |  5 | 4 |  5 | 10 |  4 | 1 | malignant |\n",
       "\n"
      ],
      "text/plain": [
       "    Clump Thickness Uniformity of Cell Size Uniformity of Cell Shape\n",
       "1    5               1                       1                      \n",
       "2    5               4                       4                      \n",
       "3    3               1                       1                      \n",
       "4    6               8                       8                      \n",
       "5    4               1                       1                      \n",
       "6    8              10                      10                      \n",
       "7    1               1                       1                      \n",
       "8    2               1                       2                      \n",
       "9    2               1                       1                      \n",
       "10   4               2                       1                      \n",
       "11   1               1                       1                      \n",
       "12   2               1                       1                      \n",
       "13   5               3                       3                      \n",
       "14   1               1                       1                      \n",
       "15   8               7                       5                      \n",
       "16   7               4                       6                      \n",
       "17   4               1                       1                      \n",
       "18   4               1                       1                      \n",
       "19  10               7                       7                      \n",
       "20   6               1                       1                      \n",
       "21   7               3                       2                      \n",
       "22  10               5                       5                      \n",
       "23   3               1                       1                      \n",
       "24   8               4                       5                      \n",
       "25   1               1                       1                      \n",
       "26   5               2                       3                      \n",
       "27   3               2                       1                      \n",
       "28   5               1                       1                      \n",
       "29   2               1                       1                      \n",
       "30   1               1                       3                      \n",
       "⋮   ⋮               ⋮                       ⋮                       \n",
       "670  5              10                      10                      \n",
       "671  3              10                       7                      \n",
       "672  3               2                       1                      \n",
       "673  2               1                       1                      \n",
       "674  5               3                       2                      \n",
       "675  1               1                       1                      \n",
       "676  4               1                       4                      \n",
       "677  1               1                       2                      \n",
       "678  5               1                       1                      \n",
       "679  1               1                       1                      \n",
       "680  2               1                       1                      \n",
       "681 10              10                      10                      \n",
       "682  5              10                      10                      \n",
       "683  5               1                       1                      \n",
       "684  1               1                       1                      \n",
       "685  1               1                       1                      \n",
       "686  1               1                       1                      \n",
       "687  1               1                       1                      \n",
       "688  3               1                       1                      \n",
       "689  4               1                       1                      \n",
       "690  1               1                       1                      \n",
       "691  1               1                       1                      \n",
       "692  5              10                      10                      \n",
       "693  3               1                       1                      \n",
       "694  3               1                       1                      \n",
       "695  3               1                       1                      \n",
       "696  2               1                       1                      \n",
       "697  5              10                      10                      \n",
       "698  4               8                       6                      \n",
       "699  4               8                       8                      \n",
       "    Marginal Adhesion Single Epithelial Cell Size Bare Nuclei Bland Chromatin\n",
       "1    1                2                            1          3              \n",
       "2    5                7                           10          3              \n",
       "3    1                2                            2          3              \n",
       "4    1                3                            4          3              \n",
       "5    3                2                            1          3              \n",
       "6    8                7                           10          9              \n",
       "7    1                2                           10          3              \n",
       "8    1                2                            1          3              \n",
       "9    1                2                            1          1              \n",
       "10   1                2                            1          2              \n",
       "11   1                1                            1          3              \n",
       "12   1                2                            1          2              \n",
       "13   3                2                            3          4              \n",
       "14   1                2                            3          3              \n",
       "15  10                7                            9          5              \n",
       "16   4                6                            1          4              \n",
       "17   1                2                            1          2              \n",
       "18   1                2                            1          3              \n",
       "19   6                4                           10          4              \n",
       "20   1                2                            1          3              \n",
       "21  10                5                           10          5              \n",
       "22   3                6                            7          7              \n",
       "23   1                2                            1          2              \n",
       "24   1                2                           NA          7              \n",
       "25   1                2                            1          3              \n",
       "26   4                2                            7          3              \n",
       "27   1                1                            1          2              \n",
       "28   1                2                            1          2              \n",
       "29   1                2                            1          2              \n",
       "30   1                2                            1          1              \n",
       "⋮   ⋮                 ⋮                           ⋮           ⋮              \n",
       "670  8                5                            5           7             \n",
       "671  8                5                            8           7             \n",
       "672  2                2                            1           3             \n",
       "673  1                2                            1           3             \n",
       "674  1                3                            1           1             \n",
       "675  1                2                            1           2             \n",
       "676  1                2                            1           1             \n",
       "677  1                2                            1           2             \n",
       "678  1                2                            1           1             \n",
       "679  1                2                            1           1             \n",
       "680  1                2                            1           1             \n",
       "681 10                5                           10          10             \n",
       "682 10                4                           10           5             \n",
       "683  1                2                            1           3             \n",
       "684  1                2                            1           1             \n",
       "685  1                2                            1           1             \n",
       "686  1                2                            1           1             \n",
       "687  1                2                            1           1             \n",
       "688  1                2                            1           2             \n",
       "689  1                2                            1           1             \n",
       "690  1                2                            1           1             \n",
       "691  3                2                            1           1             \n",
       "692  5                4                            5           4             \n",
       "693  1                2                            1           1             \n",
       "694  1                2                            1           2             \n",
       "695  1                3                            2           1             \n",
       "696  1                2                            1           1             \n",
       "697  3                7                            3           8             \n",
       "698  4                3                            4          10             \n",
       "699  5                4                            5          10             \n",
       "    Normal Nucleoli Mitoses Class    \n",
       "1    1              1       benign   \n",
       "2    2              1       benign   \n",
       "3    1              1       benign   \n",
       "4    7              1       benign   \n",
       "5    1              1       benign   \n",
       "6    7              1       malignant\n",
       "7    1              1       benign   \n",
       "8    1              1       benign   \n",
       "9    1              5       benign   \n",
       "10   1              1       benign   \n",
       "11   1              1       benign   \n",
       "12   1              1       benign   \n",
       "13   4              1       malignant\n",
       "14   1              1       benign   \n",
       "15   5              4       malignant\n",
       "16   3              1       malignant\n",
       "17   1              1       benign   \n",
       "18   1              1       benign   \n",
       "19   1              2       malignant\n",
       "20   1              1       benign   \n",
       "21   4              4       malignant\n",
       "22  10              1       malignant\n",
       "23   1              1       benign   \n",
       "24   3              1       malignant\n",
       "25   1              1       benign   \n",
       "26   6              1       malignant\n",
       "27   1              1       benign   \n",
       "28   1              1       benign   \n",
       "29   1              1       benign   \n",
       "30   1              1       benign   \n",
       "⋮   ⋮               ⋮       ⋮        \n",
       "670 10              1       malignant\n",
       "671  4              1       malignant\n",
       "672  1              1       benign   \n",
       "673  1              1       benign   \n",
       "674  1              1       benign   \n",
       "675  1              1       benign   \n",
       "676  1              1       benign   \n",
       "677  1              1       benign   \n",
       "678  1              1       benign   \n",
       "679  1              1       benign   \n",
       "680  1              1       benign   \n",
       "681 10              7       malignant\n",
       "682  6              3       malignant\n",
       "683  2              1       benign   \n",
       "684  1              1       benign   \n",
       "685  1              1       benign   \n",
       "686  1              1       benign   \n",
       "687  1              1       benign   \n",
       "688  3              1       benign   \n",
       "689  1              1       benign   \n",
       "690  1              8       benign   \n",
       "691  1              1       benign   \n",
       "692  4              1       malignant\n",
       "693  1              1       benign   \n",
       "694  1              2       benign   \n",
       "695  1              1       benign   \n",
       "696  1              1       benign   \n",
       "697 10              2       malignant\n",
       "698  6              1       malignant\n",
       "699  4              1       malignant"
      ]
     },
     "metadata": {},
     "output_type": "display_data"
    }
   ],
   "source": [
    "breastcancer"
   ]
  },
  {
   "cell_type": "code",
   "execution_count": 6,
   "metadata": {},
   "outputs": [],
   "source": [
    "random <- sample(1:nrow(breastcancer), 0.7 * nrow(breastcancer))"
   ]
  },
  {
   "cell_type": "code",
   "execution_count": 7,
   "metadata": {},
   "outputs": [
    {
     "name": "stderr",
     "output_type": "stream",
     "text": [
      "Warning message in optbin.data.frame(breastcancer[random, ], method = \"infogain\"):\n",
      "“11 instance(s) removed due to missing values”"
     ]
    }
   ],
   "source": [
    "breastcancer_train <- optbin(breastcancer[random, ], method = \"infogain\")"
   ]
  },
  {
   "cell_type": "code",
   "execution_count": 8,
   "metadata": {},
   "outputs": [],
   "source": [
    "breastcancer_test <- breastcancer[random, ]"
   ]
  },
  {
   "cell_type": "code",
   "execution_count": 9,
   "metadata": {},
   "outputs": [
    {
     "name": "stdout",
     "output_type": "stream",
     "text": [
      "\n",
      "    Attribute                   Accuracy\n",
      "1 * Uniformity of Cell Size     92.47%  \n",
      "2   Uniformity of Cell Shape    91.21%  \n",
      "3   Bare Nuclei                 90.79%  \n",
      "4   Single Epithelial Cell Size 89.33%  \n",
      "4   Bland Chromatin             89.33%  \n",
      "4   Normal Nucleoli             89.33%  \n",
      "7   Marginal Adhesion           85.36%  \n",
      "8   Clump Thickness             82.85%  \n",
      "9   Mitoses                     76.99%  \n",
      "---\n",
      "Chosen attribute due to accuracy\n",
      "and ties method (if applicable): '*'\n",
      "\n"
     ]
    }
   ],
   "source": [
    "model_train_breastcancer <- OneR(breastcancer_train, verbose = TRUE)"
   ]
  },
  {
   "cell_type": "code",
   "execution_count": 10,
   "metadata": {},
   "outputs": [
    {
     "name": "stdout",
     "output_type": "stream",
     "text": [
      "\n",
      "Call:\n",
      "OneR.data.frame(x = breastcancer_train, verbose = TRUE)\n",
      "\n",
      "Rules:\n",
      "If Uniformity of Cell Size = (0.991,3] then Class = benign\n",
      "If Uniformity of Cell Size = (3,10]    then Class = malignant\n",
      "\n",
      "Accuracy:\n",
      "442 of 478 instances classified correctly (92.47%)\n",
      "\n",
      "Contingency table:\n",
      "           Uniformity of Cell Size\n",
      "Class       (0.991,3] (3,10] Sum\n",
      "  benign        * 290      7 297\n",
      "  malignant        29  * 152 181\n",
      "  Sum             319    159 478\n",
      "---\n",
      "Maximum in each column: '*'\n",
      "\n",
      "Pearson's Chi-squared test:\n",
      "X-squared = 333.84, df = 1, p-value < 2.2e-16\n",
      "\n"
     ]
    }
   ],
   "source": [
    "summary(model_train_breastcancer)"
   ]
  },
  {
   "cell_type": "code",
   "execution_count": 11,
   "metadata": {},
   "outputs": [
    {
     "data": {
      "image/png": "[encoded data removed]",
      "text/plain": [
       "Plot with title “OneR model diagnostic plot”"
      ]
     },
     "metadata": {},
     "output_type": "display_data"
    }
   ],
   "source": [
    "plot(model_train_breastcancer)"
   ]
  },
  {
   "cell_type": "code",
   "execution_count": 12,
   "metadata": {},
   "outputs": [],
   "source": [
    "prediction <- predict(model_train_breastcancer, breastcancer_test)"
   ]
  },
  {
   "cell_type": "code",
   "execution_count": 13,
   "metadata": {},
   "outputs": [
    {
     "name": "stdout",
     "output_type": "stream",
     "text": [
      "\n",
      "Confusion matrix (absolute):\n",
      "           Actual\n",
      "Prediction  benign malignant Sum\n",
      "  benign       296        29 325\n",
      "  malignant     10       154 164\n",
      "  Sum          306       183 489\n",
      "\n",
      "Confusion matrix (relative):\n",
      "           Actual\n",
      "Prediction  benign malignant  Sum\n",
      "  benign      0.61      0.06 0.66\n",
      "  malignant   0.02      0.31 0.34\n",
      "  Sum         0.63      0.37 1.00\n",
      "\n",
      "Accuracy:\n",
      "0.9202 (450/489)\n",
      "\n",
      "Error rate:\n",
      "0.0798 (39/489)\n",
      "\n",
      "Error rate reduction (vs. base rate):\n",
      "0.7869 (p-value < 2.2e-16)\n",
      "\n"
     ]
    }
   ],
   "source": [
    "eval_model(prediction, breastcancer_test)"
   ]
  },
  {
   "cell_type": "code",
   "execution_count": 14,
   "metadata": {},
   "outputs": [
    {
     "name": "stderr",
     "output_type": "stream",
     "text": [
      "Installing package into ‘/srv/rlibs’\n",
      "(as ‘lib’ is unspecified)\n",
      "Installing package into ‘/srv/rlibs’\n",
      "(as ‘lib’ is unspecified)\n"
     ]
    }
   ],
   "source": [
    "install.packages(\"e1071\")\n",
    "install.packages(\"naivebayes\")"
   ]
  },
  {
   "cell_type": "code",
   "execution_count": 15,
   "metadata": {},
   "outputs": [],
   "source": [
    "library(e1071)\n",
    "library(naivebayes)"
   ]
  },
  {
   "cell_type": "code",
   "execution_count": 16,
   "metadata": {},
   "outputs": [],
   "source": [
    "naive_train_cancer <- breastcancer[random, ]"
   ]
  },
  {
   "cell_type": "code",
   "execution_count": 17,
   "metadata": {},
   "outputs": [],
   "source": [
    "naive_test_cancer <- breastcancer[-random, ]"
   ]
  },
  {
   "cell_type": "code",
   "execution_count": 18,
   "metadata": {},
   "outputs": [
    {
     "ename": "ERROR",
     "evalue": "Error in `[.data.frame`(m, , attr(Terms, \"term.labels\"), drop = FALSE): undefined columns selected\n",
     "output_type": "error",
     "traceback": [
      "Error in `[.data.frame`(m, , attr(Terms, \"term.labels\"), drop = FALSE): undefined columns selected\nTraceback:\n",
      "1. naiveBayes(Class ~ ., data = naive_train_cancer)",
      "2. naiveBayes.formula(Class ~ ., data = naive_train_cancer)",
      "3. m[, attr(Terms, \"term.labels\"), drop = FALSE]",
      "4. `[.data.frame`(m, , attr(Terms, \"term.labels\"), drop = FALSE)",
      "5. stop(\"undefined columns selected\")"
     ]
    }
   ],
   "source": [
    "breast_naive <- naiveBayes(Class ~ ., data=naive_train_cancer)"
   ]
  },
  {
   "cell_type": "code",
   "execution_count": null,
   "metadata": {},
   "outputs": [],
   "source": []
  }
 ],
 "metadata": {
  "kernelspec": {
   "display_name": "R",
   "language": "R",
   "name": "ir"
  },
  "language_info": {
   "codemirror_mode": "r",
   "file_extension": ".r",
   "mimetype": "text/x-r-source",
   "name": "R",
   "pygments_lexer": "r",
   "version": "3.4.4"
  }
 },
 "nbformat": 4,
 "nbformat_minor": 2
}
